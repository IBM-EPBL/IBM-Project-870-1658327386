{
 "cells": [
  {
   "cell_type": "code",
   "execution_count": 14,
   "id": "daf8764e",
   "metadata": {},
   "outputs": [],
   "source": [
    "import os\n",
    "import tensorflow\n",
    "import numpy as np\n",
    "from keras.preprocessing.image import ImageDataGenerator\n",
    "from keras.models import Sequential\n",
    "from keras.layers import Dense,Convolution2D,MaxPooling2D,Flatten\n",
    "from keras.models import load_model\n",
    "from keras.utils import load_img, img_to_array"
   ]
  },
  {
   "cell_type": "code",
   "execution_count": 15,
   "id": "3ee1b664",
   "metadata": {},
   "outputs": [],
   "source": [
    "train_datagen=ImageDataGenerator(rescale=1./255,zoom_range=0.2,horizontal_flip=True,vertical_flip=False)"
   ]
  },
  {
   "cell_type": "code",
   "execution_count": 16,
   "id": "7b840c73",
   "metadata": {},
   "outputs": [],
   "source": [
    "test_datagen=ImageDataGenerator(rescale=1./255)\n"
   ]
  },
  {
   "cell_type": "code",
   "execution_count": 17,
   "id": "819469f8",
   "metadata": {},
   "outputs": [
    {
     "name": "stdout",
     "output_type": "stream",
     "text": [
      "Found 11386 images belonging to 9 classes.\n"
     ]
    }
   ],
   "source": [
    "x_train=train_datagen.flow_from_directory(r\"C:\\Users\\thani_k\\Downloads\\Fertilizers_Recommendation_System_For_Disease_Prediction\\Dataset_Plant_Disease\\Veg-dataset\\Veg-dataset\\train_set\",target_size=(128,128),\n",
    "                                        class_mode='categorical',batch_size=24)"
   ]
  },
  {
   "cell_type": "code",
   "execution_count": 18,
   "id": "4f3123ba",
   "metadata": {},
   "outputs": [
    {
     "name": "stdout",
     "output_type": "stream",
     "text": [
      "Found 3416 images belonging to 9 classes.\n"
     ]
    }
   ],
   "source": [
    "x_test=test_datagen.flow_from_directory(r\"C:\\Users\\thani_k\\Downloads\\Fertilizers_Recommendation_System_For_Disease_Prediction\\Dataset_Plant_Disease\\Veg-dataset\\Veg-dataset\\test_set\",target_size=(128,128),\n",
    "                                        class_mode='categorical',batch_size=24)"
   ]
  },
  {
   "cell_type": "code",
   "execution_count": 19,
   "id": "a430b25e",
   "metadata": {},
   "outputs": [],
   "source": [
    "model=Sequential()"
   ]
  },
  {
   "cell_type": "code",
   "execution_count": 20,
   "id": "c253777e",
   "metadata": {},
   "outputs": [],
   "source": [
    "model.add(Convolution2D(32,(3,3),input_shape=(128,128,3),activation='relu'))\n"
   ]
  },
  {
   "cell_type": "code",
   "execution_count": 21,
   "id": "81c2b016",
   "metadata": {},
   "outputs": [
    {
     "name": "stdout",
     "output_type": "stream",
     "text": [
      "Model: \"sequential_1\"\n",
      "_________________________________________________________________\n",
      " Layer (type)                Output Shape              Param #   \n",
      "=================================================================\n",
      " conv2d_1 (Conv2D)           (None, 126, 126, 32)      896       \n",
      "                                                                 \n",
      " max_pooling2d_1 (MaxPooling  (None, 63, 63, 32)       0         \n",
      " 2D)                                                             \n",
      "                                                                 \n",
      " flatten_1 (Flatten)         (None, 127008)            0         \n",
      "                                                                 \n",
      "=================================================================\n",
      "Total params: 896\n",
      "Trainable params: 896\n",
      "Non-trainable params: 0\n",
      "_________________________________________________________________\n"
     ]
    }
   ],
   "source": [
    "model.add(MaxPooling2D(pool_size=(2,2)))\n",
    "model.add(Flatten())\n",
    "model.summary()"
   ]
  },
  {
   "cell_type": "code",
   "execution_count": 22,
   "id": "624f0333",
   "metadata": {},
   "outputs": [],
   "source": [
    "32*(3*3*3+1)\n",
    "model.add(Dense(300,activation='relu'))\n",
    "model.add(Dense(150,activation='relu'))"
   ]
  },
  {
   "cell_type": "code",
   "execution_count": 23,
   "id": "110913b9",
   "metadata": {},
   "outputs": [
    {
     "data": {
      "text/plain": [
       "475"
      ]
     },
     "execution_count": 23,
     "metadata": {},
     "output_type": "execute_result"
    }
   ],
   "source": [
    "model.add(Dense(9,activation='softmax'))\n",
    "model.compile(loss='categorical_crossentropy',optimizer='adam',metrics=['accuracy'])\n",
    "len(x_train)"
   ]
  },
  {
   "cell_type": "code",
   "execution_count": 24,
   "id": "5f207c85",
   "metadata": {},
   "outputs": [
    {
     "data": {
      "text/plain": [
       "51.583333333333336"
      ]
     },
     "execution_count": 24,
     "metadata": {},
     "output_type": "execute_result"
    }
   ],
   "source": [
    "1238/24"
   ]
  },
  {
   "cell_type": "code",
   "execution_count": 25,
   "id": "8256f689",
   "metadata": {},
   "outputs": [
    {
     "name": "stdout",
     "output_type": "stream",
     "text": [
      "Epoch 1/10\n",
      "475/475 [==============================] - 161s 337ms/step - loss: 1.2189 - accuracy: 0.6350 - val_loss: 0.5418 - val_accuracy: 0.8062\n",
      "Epoch 2/10\n",
      "475/475 [==============================] - 151s 317ms/step - loss: 0.5382 - accuracy: 0.8120 - val_loss: 0.3462 - val_accuracy: 0.8879\n",
      "Epoch 3/10\n",
      "475/475 [==============================] - 158s 333ms/step - loss: 0.4042 - accuracy: 0.8557 - val_loss: 0.3197 - val_accuracy: 0.8888\n",
      "Epoch 4/10\n",
      "475/475 [==============================] - 153s 321ms/step - loss: 0.3498 - accuracy: 0.8816 - val_loss: 0.3323 - val_accuracy: 0.8826\n",
      "Epoch 5/10\n",
      "475/475 [==============================] - 139s 292ms/step - loss: 0.3001 - accuracy: 0.8957 - val_loss: 0.3153 - val_accuracy: 0.8902\n",
      "Epoch 6/10\n",
      "475/475 [==============================] - 134s 282ms/step - loss: 0.2564 - accuracy: 0.9126 - val_loss: 0.1950 - val_accuracy: 0.9356\n",
      "Epoch 7/10\n",
      "475/475 [==============================] - 133s 281ms/step - loss: 0.2468 - accuracy: 0.9134 - val_loss: 0.3115 - val_accuracy: 0.8937\n",
      "Epoch 8/10\n",
      "475/475 [==============================] - 133s 280ms/step - loss: 0.2240 - accuracy: 0.9213 - val_loss: 0.1796 - val_accuracy: 0.9374\n",
      "Epoch 9/10\n",
      "475/475 [==============================] - 144s 303ms/step - loss: 0.1972 - accuracy: 0.9311 - val_loss: 0.1617 - val_accuracy: 0.9432\n",
      "Epoch 10/10\n",
      "475/475 [==============================] - 140s 295ms/step - loss: 0.2049 - accuracy: 0.9287 - val_loss: 0.1365 - val_accuracy: 0.9508\n"
     ]
    },
    {
     "data": {
      "text/plain": [
       "<keras.callbacks.History at 0x2043e9b2d70>"
      ]
     },
     "execution_count": 25,
     "metadata": {},
     "output_type": "execute_result"
    }
   ],
   "source": [
    "model.fit(x_train,steps_per_epoch=len(x_train),validation_data=x_test,validation_steps=len(x_test),epochs=10)\n"
   ]
  },
  {
   "cell_type": "code",
   "execution_count": 26,
   "id": "1c4448dd",
   "metadata": {},
   "outputs": [],
   "source": [
    "model.save('vegdata.h5')\n"
   ]
  },
  {
   "cell_type": "code",
   "execution_count": 27,
   "id": "9b8a2bcc",
   "metadata": {},
   "outputs": [],
   "source": [
    "model=load_model('vegdata.h5')"
   ]
  },
  {
   "cell_type": "code",
   "execution_count": 36,
   "id": "da30c453",
   "metadata": {},
   "outputs": [],
   "source": [
    "img=tensorflow.keras.utils.load_img(r\"C:\\Users\\thani_k\\Downloads\\Fertilizers_Recommendation_System_For_Disease_Prediction\\Dataset_Plant_Disease\\Veg-dataset\\Veg-dataset\\test_set\\Potato___Early_blight\\b475147c-92bc-419a-b2c3-7d5aabbb79ec___RS_Early.B 7379.JPG\",target_size=(128,128))\n"
   ]
  },
  {
   "cell_type": "code",
   "execution_count": 37,
   "id": "f49760ac",
   "metadata": {},
   "outputs": [
    {
     "data": {
      "image/png": "[encoded data removed]",
      "text/plain": [
       "<PIL.Image.Image image mode=RGB size=128x128>"
      ]
     },
     "execution_count": 37,
     "metadata": {},
     "output_type": "execute_result"
    }
   ],
   "source": [
    "img"
   ]
  },
  {
   "cell_type": "code",
   "execution_count": 38,
   "id": "3f5ce628",
   "metadata": {},
   "outputs": [],
   "source": [
    "x=tensorflow.keras.utils.img_to_array(img)"
   ]
  },
  {
   "cell_type": "code",
   "execution_count": 40,
   "id": "1cc64c8f",
   "metadata": {},
   "outputs": [
    {
     "data": {
      "text/plain": [
       "array([[[191., 189., 200.],\n",
       "        [189., 187., 198.],\n",
       "        [189., 187., 198.],\n",
       "        ...,\n",
       "        [178., 176., 190.],\n",
       "        [183., 181., 195.],\n",
       "        [174., 172., 186.]],\n",
       "\n",
       "       [[184., 182., 193.],\n",
       "        [192., 190., 201.],\n",
       "        [195., 193., 204.],\n",
       "        ...,\n",
       "        [181., 179., 193.],\n",
       "        [191., 189., 203.],\n",
       "        [173., 171., 185.]],\n",
       "\n",
       "       [[184., 182., 193.],\n",
       "        [192., 190., 201.],\n",
       "        [197., 195., 206.],\n",
       "        ...,\n",
       "        [174., 172., 186.],\n",
       "        [183., 181., 195.],\n",
       "        [171., 169., 183.]],\n",
       "\n",
       "       ...,\n",
       "\n",
       "       [[163., 161., 172.],\n",
       "        [176., 174., 185.],\n",
       "        [159., 157., 168.],\n",
       "        ...,\n",
       "        [158., 156., 167.],\n",
       "        [131., 130., 138.],\n",
       "        [145., 144., 152.]],\n",
       "\n",
       "       [[171., 169., 180.],\n",
       "        [167., 165., 176.],\n",
       "        [174., 172., 183.],\n",
       "        ...,\n",
       "        [137., 135., 146.],\n",
       "        [134., 133., 141.],\n",
       "        [185., 184., 192.]],\n",
       "\n",
       "       [[157., 155., 166.],\n",
       "        [224., 222., 233.],\n",
       "        [204., 202., 213.],\n",
       "        ...,\n",
       "        [155., 153., 164.],\n",
       "        [126., 125., 133.],\n",
       "        [165., 164., 172.]]], dtype=float32)"
      ]
     },
     "execution_count": 40,
     "metadata": {},
     "output_type": "execute_result"
    }
   ],
   "source": [
    "x"
   ]
  },
  {
   "cell_type": "code",
   "execution_count": 41,
   "id": "45bb5d53",
   "metadata": {},
   "outputs": [],
   "source": [
    "x=np.expand_dims(x,axis=0)\n"
   ]
  },
  {
   "cell_type": "code",
   "execution_count": 42,
   "id": "b1975a82",
   "metadata": {},
   "outputs": [
    {
     "data": {
      "text/plain": [
       "array([[[[191., 189., 200.],\n",
       "         [189., 187., 198.],\n",
       "         [189., 187., 198.],\n",
       "         ...,\n",
       "         [178., 176., 190.],\n",
       "         [183., 181., 195.],\n",
       "         [174., 172., 186.]],\n",
       "\n",
       "        [[184., 182., 193.],\n",
       "         [192., 190., 201.],\n",
       "         [195., 193., 204.],\n",
       "         ...,\n",
       "         [181., 179., 193.],\n",
       "         [191., 189., 203.],\n",
       "         [173., 171., 185.]],\n",
       "\n",
       "        [[184., 182., 193.],\n",
       "         [192., 190., 201.],\n",
       "         [197., 195., 206.],\n",
       "         ...,\n",
       "         [174., 172., 186.],\n",
       "         [183., 181., 195.],\n",
       "         [171., 169., 183.]],\n",
       "\n",
       "        ...,\n",
       "\n",
       "        [[163., 161., 172.],\n",
       "         [176., 174., 185.],\n",
       "         [159., 157., 168.],\n",
       "         ...,\n",
       "         [158., 156., 167.],\n",
       "         [131., 130., 138.],\n",
       "         [145., 144., 152.]],\n",
       "\n",
       "        [[171., 169., 180.],\n",
       "         [167., 165., 176.],\n",
       "         [174., 172., 183.],\n",
       "         ...,\n",
       "         [137., 135., 146.],\n",
       "         [134., 133., 141.],\n",
       "         [185., 184., 192.]],\n",
       "\n",
       "        [[157., 155., 166.],\n",
       "         [224., 222., 233.],\n",
       "         [204., 202., 213.],\n",
       "         ...,\n",
       "         [155., 153., 164.],\n",
       "         [126., 125., 133.],\n",
       "         [165., 164., 172.]]]], dtype=float32)"
      ]
     },
     "execution_count": 42,
     "metadata": {},
     "output_type": "execute_result"
    }
   ],
   "source": [
    "x"
   ]
  },
  {
   "cell_type": "code",
   "execution_count": 43,
   "id": "a9929f1d",
   "metadata": {},
   "outputs": [
    {
     "name": "stdout",
     "output_type": "stream",
     "text": [
      "1/1 [==============================] - 0s 125ms/step\n"
     ]
    }
   ],
   "source": [
    "y=np.argmax(model.predict(x),axis=1)"
   ]
  },
  {
   "cell_type": "code",
   "execution_count": 44,
   "id": "0d519205",
   "metadata": {},
   "outputs": [
    {
     "data": {
      "text/plain": [
       "{'Pepper,_bell___Bacterial_spot': 0,\n",
       " 'Pepper,_bell___healthy': 1,\n",
       " 'Potato___Early_blight': 2,\n",
       " 'Potato___Late_blight': 3,\n",
       " 'Potato___healthy': 4,\n",
       " 'Tomato___Bacterial_spot': 5,\n",
       " 'Tomato___Late_blight': 6,\n",
       " 'Tomato___Leaf_Mold': 7,\n",
       " 'Tomato___Septoria_leaf_spot': 8}"
      ]
     },
     "execution_count": 44,
     "metadata": {},
     "output_type": "execute_result"
    }
   ],
   "source": [
    "x_train.class_indices"
   ]
  },
  {
   "cell_type": "code",
   "execution_count": 45,
   "id": "a6e38e7e",
   "metadata": {},
   "outputs": [],
   "source": [
    "index=['Pepper,_bell___Bacterial_spot','Pepper,_bell___healthy','Potato___Early_blight','Potato___Late_blight','Potato___healthy','Tomato___Bacterial_spot','Tomato___Late_blight','Tomato___Leaf_Mold','Tomato___Septoria_leaf_spot']"
   ]
  },
  {
   "cell_type": "code",
   "execution_count": 46,
   "id": "47b90c62",
   "metadata": {},
   "outputs": [
    {
     "data": {
      "text/plain": [
       "'Potato___Early_blight'"
      ]
     },
     "execution_count": 46,
     "metadata": {},
     "output_type": "execute_result"
    }
   ],
   "source": [
    "index[y[0]]"
   ]
  }
 ],
 "metadata": {
  "kernelspec": {
   "display_name": "Python 3",
   "language": "python",
   "name": "python3"
  },
  "language_info": {
   "codemirror_mode": {
    "name": "ipython",
    "version": 3
   },
   "file_extension": ".py",
   "mimetype": "text/x-python",
   "name": "python",
   "nbconvert_exporter": "python",
   "pygments_lexer": "ipython3",
   "version": "3.10.4 (tags/v3.10.4:9d38120, Mar 23 2022, 23:13:41) [MSC v.1929 64 bit (AMD64)]"
  },
  "vscode": {
   "interpreter": {
    "hash": "8a5edab282632443219e051e4ade2d1d5bbc671c781051bf1437897cbdfea0f1"
   }
  }
 },
 "nbformat": 4,
 "nbformat_minor": 5
}
