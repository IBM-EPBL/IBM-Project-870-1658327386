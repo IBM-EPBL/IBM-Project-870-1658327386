{
  "cells": [
    {
      "cell_type": "code",
      "source": [
        "from google.colab import drive\n",
        "drive.mount('/content/drive')"
      ],
      "metadata": {
        "colab": {
          "base_uri": "https://localhost:8080/"
        },
        "id": "jyHjV6dIL2ue",
        "outputId": "a87252e7-98a4-45de-f0a2-7e39c261a1a6"
      },
      "id": "jyHjV6dIL2ue",
      "execution_count": null,
      "outputs": [
        {
          "output_type": "stream",
          "name": "stdout",
          "text": [
            "Mounted at /content/drive\n"
          ]
        }
      ]
    },
    {
      "cell_type": "markdown",
      "id": "4eaf0f8f",
      "metadata": {
        "id": "4eaf0f8f"
      },
      "source": [
        "# Importing the libraries"
      ]
    },
    {
      "cell_type": "code",
      "execution_count": null,
      "id": "af54c720",
      "metadata": {
        "id": "af54c720"
      },
      "outputs": [],
      "source": [
        "from tensorflow.keras.models import Sequential\n",
        "from tensorflow.keras.layers import Dense"
      ]
    },
    {
      "cell_type": "code",
      "execution_count": null,
      "id": "c308bb87",
      "metadata": {
        "id": "c308bb87"
      },
      "outputs": [],
      "source": [
        "from tensorflow.keras.layers import Convolution2D\n",
        "from tensorflow.keras.layers import MaxPooling2D\n",
        "from tensorflow.keras.layers import Flatten"
      ]
    },
    {
      "cell_type": "code",
      "execution_count": null,
      "id": "66647f1c",
      "metadata": {
        "id": "66647f1c"
      },
      "outputs": [],
      "source": [
        "#import the preprocess library of image\n",
        "from tensorflow.keras.preprocessing.image import ImageDataGenerator"
      ]
    },
    {
      "cell_type": "markdown",
      "id": "12d4b670",
      "metadata": {
        "id": "12d4b670"
      },
      "source": [
        "# Image Augmentation"
      ]
    },
    {
      "cell_type": "code",
      "execution_count": null,
      "id": "4bff9951",
      "metadata": {
        "id": "4bff9951"
      },
      "outputs": [],
      "source": [
        "train_datagen = ImageDataGenerator(rescale=1./255,shear_range=0.2,zoom_range=0.2,horizontal_flip=True,vertical_flip=True)\n",
        "#rescale =  pixel value rescaling to 0 to 1 from 0 to 255\n",
        "#shear_range => counter clock wise rotation(anti clock)"
      ]
    },
    {
      "cell_type": "code",
      "execution_count": null,
      "id": "6edce5fe",
      "metadata": {
        "id": "6edce5fe"
      },
      "outputs": [],
      "source": [
        "test_datagen  = ImageDataGenerator(rescale=1./255)"
      ]
    },
    {
      "cell_type": "code",
      "execution_count": null,
      "id": "85bb0411",
      "metadata": {
        "id": "85bb0411"
      },
      "outputs": [],
      "source": [
        "#load your images data"
      ]
    },
    {
      "cell_type": "code",
      "execution_count": null,
      "id": "692dc3e5",
      "metadata": {
        "id": "692dc3e5"
      },
      "outputs": [],
      "source": [
        "#load your images data"
      ]
    },
    {
      "cell_type": "code",
      "execution_count": 30,
      "id": "b762d846",
      "metadata": {
        "colab": {
          "base_uri": "https://localhost:8080/"
        },
        "id": "b762d846",
        "outputId": "0feed542-84c3-4a3b-8b4a-1ddba3d2b2c3"
      },
      "outputs": [
        {
          "output_type": "stream",
          "name": "stdout",
          "text": [
            "Found 4317 images belonging to 5 classes.\n"
          ]
        }
      ],
      "source": [
        "x_train = train_datagen.flow_from_directory('/content/drive/MyDrive/IBM/Flowers',target_size=(128,128),batch_size=100,class_mode=\"categorical\")"
      ]
    },
    {
      "cell_type": "code",
      "execution_count": 31,
      "id": "ea342a97",
      "metadata": {
        "colab": {
          "base_uri": "https://localhost:8080/"
        },
        "id": "ea342a97",
        "outputId": "05219b39-4b17-4f91-d2cf-c781693628db"
      },
      "outputs": [
        {
          "output_type": "stream",
          "name": "stdout",
          "text": [
            "Found 4317 images belonging to 5 classes.\n"
          ]
        }
      ],
      "source": [
        "x_test = test_datagen.flow_from_directory(r\"/content/drive/MyDrive/IBM/Flowers\",target_size=(128,128),batch_size=100,class_mode=\"categorical\")"
      ]
    },
    {
      "cell_type": "code",
      "execution_count": 32,
      "id": "c546590d",
      "metadata": {
        "colab": {
          "base_uri": "https://localhost:8080/"
        },
        "id": "c546590d",
        "outputId": "ccfd9666-b2aa-4041-8fb3-3e0dc42b949a"
      },
      "outputs": [
        {
          "output_type": "execute_result",
          "data": {
            "text/plain": [
              "{'daisy': 0, 'dandelion': 1, 'rose': 2, 'sunflower': 3, 'tulip': 4}"
            ]
          },
          "metadata": {},
          "execution_count": 32
        }
      ],
      "source": [
        "x_train.class_indices"
      ]
    },
    {
      "cell_type": "markdown",
      "source": [],
      "metadata": {
        "id": "Z7b8CGRwLnvQ"
      },
      "id": "Z7b8CGRwLnvQ"
    },
    {
      "cell_type": "markdown",
      "id": "3674fd50",
      "metadata": {
        "id": "3674fd50"
      },
      "source": [
        "# Create Model"
      ]
    },
    {
      "cell_type": "code",
      "execution_count": 33,
      "id": "40d36922",
      "metadata": {
        "id": "40d36922"
      },
      "outputs": [],
      "source": [
        "#initialize the model\n",
        "model = Sequential()"
      ]
    },
    {
      "cell_type": "markdown",
      "id": "42399f9d",
      "metadata": {
        "id": "42399f9d"
      },
      "source": [
        "# Add Layers (Convolution,MaxPooling,Flatten,Dense-(Hidden Layers),Output)\n"
      ]
    },
    {
      "cell_type": "code",
      "execution_count": 34,
      "id": "7cb21faa",
      "metadata": {
        "id": "7cb21faa"
      },
      "outputs": [],
      "source": [
        "#add convlution layer\n",
        "model.add(Convolution2D(32,(3,3),input_shape=(128,128,3),activation='relu'))\n",
        "# 32 => no of feature detectors\n",
        "#(3,3)=> kernel size(feature detector size => 3*3 matrix)"
      ]
    },
    {
      "cell_type": "code",
      "execution_count": 35,
      "id": "f707bdb9",
      "metadata": {
        "id": "f707bdb9"
      },
      "outputs": [],
      "source": [
        "#add maxpooling layer\n",
        "model.add(MaxPooling2D(pool_size=(2,2)))"
      ]
    },
    {
      "cell_type": "code",
      "execution_count": 36,
      "id": "9211daa5",
      "metadata": {
        "id": "9211daa5"
      },
      "outputs": [],
      "source": [
        "# you can add more convolutiona and pooling layers\n",
        "model.add(Convolution2D(32,(3,3),input_shape=(128,128,3),activation='relu'))\n",
        "model.add(MaxPooling2D(pool_size=(2,2)))"
      ]
    },
    {
      "cell_type": "code",
      "execution_count": 37,
      "id": "3ed0ec60",
      "metadata": {
        "id": "3ed0ec60"
      },
      "outputs": [],
      "source": [
        "#flatten layer => input layer to your ANN\n",
        "model.add(Flatten())"
      ]
    },
    {
      "cell_type": "code",
      "execution_count": 46,
      "id": "80e25dc3",
      "metadata": {
        "id": "80e25dc3"
      },
      "outputs": [],
      "source": [
        "#hidden layers\n",
        "model.add(Dense(units=500,kernel_initializer=\"random_uniform\",activation=\"relu\"))\n",
        "model.add(Dense(units=200,kernel_initializer=\"random_uniform\",activation=\"relu\"))\n",
        "model.add(Dense(units=300,kernel_initializer=\"random_uniform\",activation=\"relu\"))\n",
        "model.add(Dense(units=400,kernel_initializer=\"random_uniform\",activation=\"relu\"))"
      ]
    },
    {
      "cell_type": "code",
      "execution_count": 47,
      "id": "96eaeff1",
      "metadata": {
        "id": "96eaeff1"
      },
      "outputs": [],
      "source": [
        "#output layer\n",
        "model.add(Dense(units=5,kernel_initializer=\"random_uniform\",activation=\"softmax\"))"
      ]
    },
    {
      "cell_type": "markdown",
      "id": "57aab9e9",
      "metadata": {
        "id": "57aab9e9"
      },
      "source": [
        "# Compile The Model"
      ]
    },
    {
      "cell_type": "code",
      "execution_count": 48,
      "id": "251cbc5d",
      "metadata": {
        "id": "251cbc5d"
      },
      "outputs": [],
      "source": [
        "#compile the model\n",
        "model.compile(loss=\"categorical_crossentropy\",optimizer=\"adam\",metrics=[\"accuracy\"])"
      ]
    },
    {
      "cell_type": "markdown",
      "id": "4d5cfa6a",
      "metadata": {
        "id": "4d5cfa6a"
      },
      "source": [
        "# Fit The Model"
      ]
    },
    {
      "cell_type": "code",
      "execution_count": 52,
      "id": "7fac8b83",
      "metadata": {
        "colab": {
          "base_uri": "https://localhost:8080/"
        },
        "id": "7fac8b83",
        "outputId": "ff234599-cdd6-44ee-ed62-e4a7c191fb8d"
      },
      "outputs": [
        {
          "output_type": "stream",
          "name": "stdout",
          "text": [
            "44/44 [==============================] - 147s 3s/step - loss: 1.5993 - accuracy: 0.2437 - val_loss: 1.5986 - val_accuracy: 0.2437\n"
          ]
        },
        {
          "output_type": "execute_result",
          "data": {
            "text/plain": [
              "<keras.callbacks.History at 0x7f8cfc6bb850>"
            ]
          },
          "metadata": {},
          "execution_count": 52
        }
      ],
      "source": [
        "#train the model\n",
        "model.fit(x_train,steps_per_epoch=len(x_train),epochs=1,validation_data=x_test,validation_steps=len(x_test))\n",
        "#steps_per_epoch = no of train images/batch size\n",
        "#validation_steps = no of test images/batch size"
      ]
    },
    {
      "cell_type": "markdown",
      "id": "301aa574",
      "metadata": {
        "id": "301aa574"
      },
      "source": [
        "# Save The Model"
      ]
    },
    {
      "cell_type": "code",
      "execution_count": 53,
      "id": "a87f4fdd",
      "metadata": {
        "id": "a87f4fdd"
      },
      "outputs": [],
      "source": [
        "model.save(\"/flowers.h5\")"
      ]
    },
    {
      "cell_type": "markdown",
      "id": "5570dee0",
      "metadata": {
        "id": "5570dee0"
      },
      "source": [
        "# Test The Model"
      ]
    },
    {
      "cell_type": "code",
      "execution_count": 54,
      "id": "199a250c",
      "metadata": {
        "id": "199a250c"
      },
      "outputs": [],
      "source": [
        "from tensorflow.keras.models import load_model\n",
        "from tensorflow.keras.preprocessing import image\n",
        "import numpy as np"
      ]
    },
    {
      "cell_type": "code",
      "execution_count": 55,
      "id": "83e47a3c",
      "metadata": {
        "id": "83e47a3c"
      },
      "outputs": [],
      "source": [
        "model = load_model(\"/flowers.h5\")"
      ]
    },
    {
      "cell_type": "code",
      "execution_count": 57,
      "id": "3591460c",
      "metadata": {
        "id": "3591460c"
      },
      "outputs": [],
      "source": [
        "img = image.load_img(\"/content/drive/MyDrive/IBM/sunflower.jpg\",target_size=(128,128))"
      ]
    },
    {
      "cell_type": "code",
      "execution_count": null,
      "id": "eb4c21ad",
      "metadata": {
        "id": "eb4c21ad",
        "outputId": "97bbd896-b41c-4e8e-8506-24a98670a881",
        "colab": {
          "base_uri": "https://localhost:8080/",
          "height": 145
        }
      },
      "outputs": [
        {
          "output_type": "execute_result",
          "data": {
            "text/plain": [
              "<PIL.Image.Image image mode=RGB size=128x128 at 0x7EFFA2BACCD0>"
            ],
            "image/png": "[encoded data removed]"
          },
          "metadata": {},
          "execution_count": 34
        }
      ],
      "source": [
        "img"
      ]
    },
    {
      "cell_type": "code",
      "execution_count": 58,
      "id": "e4163cf5",
      "metadata": {
        "id": "e4163cf5"
      },
      "outputs": [],
      "source": [
        "x = image.img_to_array(img)"
      ]
    },
    {
      "cell_type": "code",
      "execution_count": 59,
      "id": "2712ea8b",
      "metadata": {
        "id": "2712ea8b",
        "colab": {
          "base_uri": "https://localhost:8080/"
        },
        "outputId": "cebe7e40-a797-4c74-f95c-319b976673c2"
      },
      "outputs": [
        {
          "output_type": "execute_result",
          "data": {
            "text/plain": [
              "array([[[ 94., 127.,  56.],\n",
              "        [ 92., 125.,  54.],\n",
              "        [ 90., 123.,  52.],\n",
              "        ...,\n",
              "        [ 96., 128.,  52.],\n",
              "        [104., 135.,  59.],\n",
              "        [112., 140.,  65.]],\n",
              "\n",
              "       [[106., 133.,  64.],\n",
              "        [109., 136.,  67.],\n",
              "        [109., 136.,  67.],\n",
              "        ...,\n",
              "        [101., 132.,  54.],\n",
              "        [111., 139.,  62.],\n",
              "        [115., 142.,  65.]],\n",
              "\n",
              "       [[129., 150.,  85.],\n",
              "        [130., 151.,  86.],\n",
              "        [132., 153.,  88.],\n",
              "        ...,\n",
              "        [108., 137.,  53.],\n",
              "        [112., 141.,  59.],\n",
              "        [120., 144.,  66.]],\n",
              "\n",
              "       ...,\n",
              "\n",
              "       [[141., 159., 111.],\n",
              "        [134., 153.,  98.],\n",
              "        [125., 145.,  86.],\n",
              "        ...,\n",
              "        [ 62.,  96.,   2.],\n",
              "        [ 55.,  88.,   7.],\n",
              "        [ 48.,  82.,   8.]],\n",
              "\n",
              "       [[141., 158., 113.],\n",
              "        [138., 155., 110.],\n",
              "        [132., 150., 102.],\n",
              "        ...,\n",
              "        [ 62.,  96.,   2.],\n",
              "        [ 55.,  88.,   7.],\n",
              "        [ 47.,  81.,   7.]],\n",
              "\n",
              "       [[133., 152., 106.],\n",
              "        [128., 150., 101.],\n",
              "        [116., 140.,  88.],\n",
              "        ...,\n",
              "        [ 61.,  94.,   3.],\n",
              "        [ 57.,  89.,   6.],\n",
              "        [ 50.,  80.,  10.]]], dtype=float32)"
            ]
          },
          "metadata": {},
          "execution_count": 59
        }
      ],
      "source": [
        "x"
      ]
    },
    {
      "cell_type": "code",
      "execution_count": 60,
      "id": "856ae5ba",
      "metadata": {
        "colab": {
          "base_uri": "https://localhost:8080/"
        },
        "id": "856ae5ba",
        "outputId": "04b32390-3c38-4383-d5e1-0a383d1267a6"
      },
      "outputs": [
        {
          "output_type": "execute_result",
          "data": {
            "text/plain": [
              "(128, 128, 3)"
            ]
          },
          "metadata": {},
          "execution_count": 60
        }
      ],
      "source": [
        "x.shape"
      ]
    },
    {
      "cell_type": "code",
      "execution_count": 61,
      "id": "a2b88328",
      "metadata": {
        "id": "a2b88328"
      },
      "outputs": [],
      "source": [
        "#(1,64,64,3) to expand the dims"
      ]
    },
    {
      "cell_type": "code",
      "execution_count": 62,
      "id": "ab35ed51",
      "metadata": {
        "colab": {
          "base_uri": "https://localhost:8080/"
        },
        "id": "ab35ed51",
        "outputId": "8d20d936-9ab6-442f-9a05-ed86a2310c4b"
      },
      "outputs": [
        {
          "output_type": "execute_result",
          "data": {
            "text/plain": [
              "(1, 128, 128, 3)"
            ]
          },
          "metadata": {},
          "execution_count": 62
        }
      ],
      "source": [
        "x = np.expand_dims(x,axis=0)\n",
        "x.shape"
      ]
    },
    {
      "cell_type": "code",
      "execution_count": 63,
      "id": "9f62e979",
      "metadata": {
        "id": "9f62e979",
        "colab": {
          "base_uri": "https://localhost:8080/"
        },
        "outputId": "3b093188-6ff6-4fcf-df4d-2d9a9b85eaf7"
      },
      "outputs": [
        {
          "output_type": "stream",
          "name": "stdout",
          "text": [
            "1/1 [==============================] - 0s 242ms/step\n"
          ]
        }
      ],
      "source": [
        "pred_prob = model.predict(x)"
      ]
    },
    {
      "cell_type": "code",
      "execution_count": 64,
      "id": "a9d770e1",
      "metadata": {
        "colab": {
          "base_uri": "https://localhost:8080/"
        },
        "id": "a9d770e1",
        "outputId": "10844348-9ffa-41e4-fda8-38413b296b0c"
      },
      "outputs": [
        {
          "output_type": "execute_result",
          "data": {
            "text/plain": [
              "array([[0.17730328, 0.23598376, 0.18361217, 0.17295957, 0.23014121]],\n",
              "      dtype=float32)"
            ]
          },
          "metadata": {},
          "execution_count": 64
        }
      ],
      "source": [
        "pred_prob"
      ]
    },
    {
      "cell_type": "code",
      "execution_count": 69,
      "id": "6e43fac9",
      "metadata": {
        "id": "6e43fac9"
      },
      "outputs": [],
      "source": [
        "class_name=['tulip','sunflower','rose','dandelion','daisy',]\n",
        "pred_id = pred_prob.argmax(axis=1)[0]"
      ]
    },
    {
      "cell_type": "code",
      "execution_count": 70,
      "id": "40364bb8",
      "metadata": {
        "id": "40364bb8",
        "colab": {
          "base_uri": "https://localhost:8080/"
        },
        "outputId": "74fab92f-2398-4069-b56b-bc4de83560e7"
      },
      "outputs": [
        {
          "output_type": "execute_result",
          "data": {
            "text/plain": [
              "1"
            ]
          },
          "metadata": {},
          "execution_count": 70
        }
      ],
      "source": [
        "pred_id"
      ]
    },
    {
      "cell_type": "code",
      "execution_count": 71,
      "id": "dceedb5d",
      "metadata": {
        "colab": {
          "base_uri": "https://localhost:8080/"
        },
        "id": "dceedb5d",
        "outputId": "4ffa0c67-52eb-4bd8-8d86-9e113020eb13"
      },
      "outputs": [
        {
          "output_type": "stream",
          "name": "stdout",
          "text": [
            "predicted Flower is  sunflower\n"
          ]
        }
      ],
      "source": [
        "print(\"predicted Flower is \",str(class_name[pred_id]))"
      ]
    }
  ],
  "metadata": {
    "kernelspec": {
      "display_name": "Python 3 (ipykernel)",
      "language": "python",
      "name": "python3"
    },
    "language_info": {
      "codemirror_mode": {
        "name": "ipython",
        "version": 3
      },
      "file_extension": ".py",
      "mimetype": "text/x-python",
      "name": "python",
      "nbconvert_exporter": "python",
      "pygments_lexer": "ipython3",
      "version": "3.9.12"
    },
    "colab": {
      "provenance": [],
      "collapsed_sections": []
    }
  },
  "nbformat": 4,
  "nbformat_minor": 5
}