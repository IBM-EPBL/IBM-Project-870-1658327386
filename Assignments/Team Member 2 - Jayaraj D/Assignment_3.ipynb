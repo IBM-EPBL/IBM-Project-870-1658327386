{
  "cells": [
    {
      "cell_type": "code",
      "source": [
        "from google.colab import drive\n",
        "drive.mount('/content/drive')"
      ],
      "metadata": {
        "colab": {
          "base_uri": "https://localhost:8080/"
        },
        "id": "jyHjV6dIL2ue",
        "outputId": "be54ffd2-49b4-4b13-82e1-416d77ecb265"
      },
      "id": "jyHjV6dIL2ue",
      "execution_count": 36,
      "outputs": [
        {
          "output_type": "stream",
          "name": "stdout",
          "text": [
            "Mounted at /content/drive\n"
          ]
        }
      ]
    },
    {
      "cell_type": "markdown",
      "id": "4eaf0f8f",
      "metadata": {
        "id": "4eaf0f8f"
      },
      "source": [
        "# Importing the libraries"
      ]
    },
    {
      "cell_type": "code",
      "execution_count": 6,
      "id": "af54c720",
      "metadata": {
        "id": "af54c720"
      },
      "outputs": [],
      "source": [
        "from tensorflow.keras.models import Sequential\n",
        "from tensorflow.keras.layers import Dense"
      ]
    },
    {
      "cell_type": "code",
      "execution_count": 7,
      "id": "c308bb87",
      "metadata": {
        "id": "c308bb87"
      },
      "outputs": [],
      "source": [
        "from tensorflow.keras.layers import Convolution2D\n",
        "from tensorflow.keras.layers import MaxPooling2D\n",
        "from tensorflow.keras.layers import Flatten"
      ]
    },
    {
      "cell_type": "code",
      "execution_count": 8,
      "id": "66647f1c",
      "metadata": {
        "id": "66647f1c"
      },
      "outputs": [],
      "source": [
        "#import the preprocess library of image\n",
        "from tensorflow.keras.preprocessing.image import ImageDataGenerator"
      ]
    },
    {
      "cell_type": "markdown",
      "id": "12d4b670",
      "metadata": {
        "id": "12d4b670"
      },
      "source": [
        "# Image Augmentation"
      ]
    },
    {
      "cell_type": "code",
      "execution_count": 9,
      "id": "4bff9951",
      "metadata": {
        "id": "4bff9951"
      },
      "outputs": [],
      "source": [
        "train_datagen = ImageDataGenerator(rescale=1./255,shear_range=0.2,zoom_range=0.2,horizontal_flip=True,vertical_flip=True)\n",
        "#rescale =  pixel value rescaling to 0 to 1 from 0 to 255\n",
        "#shear_range => counter clock wise rotation(anti clock)"
      ]
    },
    {
      "cell_type": "code",
      "execution_count": 10,
      "id": "6edce5fe",
      "metadata": {
        "id": "6edce5fe"
      },
      "outputs": [],
      "source": [
        "test_datagen  = ImageDataGenerator(rescale=1./255)"
      ]
    },
    {
      "cell_type": "code",
      "execution_count": 1,
      "id": "85bb0411",
      "metadata": {
        "id": "85bb0411"
      },
      "outputs": [],
      "source": [
        "#load your images data"
      ]
    },
    {
      "cell_type": "code",
      "execution_count": 2,
      "id": "692dc3e5",
      "metadata": {
        "id": "692dc3e5"
      },
      "outputs": [],
      "source": [
        "#load your images data"
      ]
    },
    {
      "cell_type": "code",
      "execution_count": 45,
      "id": "b762d846",
      "metadata": {
        "colab": {
          "base_uri": "https://localhost:8080/"
        },
        "id": "b762d846",
        "outputId": "7306a5e1-025b-4cee-f542-d739edcfd7ef"
      },
      "outputs": [
        {
          "output_type": "stream",
          "name": "stdout",
          "text": [
            "Found 310 images belonging to 2 classes.\n"
          ]
        }
      ],
      "source": [
        "x_train = train_datagen.flow_from_directory('/content/drive/MyDrive/IBM/Flowers/training',target_size=(128,128),batch_size=32,class_mode=\"categorical\")"
      ]
    },
    {
      "cell_type": "code",
      "execution_count": 43,
      "id": "ea342a97",
      "metadata": {
        "colab": {
          "base_uri": "https://localhost:8080/"
        },
        "id": "ea342a97",
        "outputId": "ceb1f462-6820-48ba-e37c-66e6d7be21aa"
      },
      "outputs": [
        {
          "output_type": "stream",
          "name": "stdout",
          "text": [
            "Found 130 images belonging to 2 classes.\n"
          ]
        }
      ],
      "source": [
        "x_test = test_datagen.flow_from_directory(r\"/content/drive/MyDrive/IBM/Flowers/testing\",target_size=(128,128),batch_size=32,class_mode=\"categorical\")"
      ]
    },
    {
      "cell_type": "code",
      "execution_count": 44,
      "id": "c546590d",
      "metadata": {
        "colab": {
          "base_uri": "https://localhost:8080/"
        },
        "id": "c546590d",
        "outputId": "6ecbe124-143c-44ea-b0e3-090e412fbb4e"
      },
      "outputs": [
        {
          "output_type": "execute_result",
          "data": {
            "text/plain": [
              "{'sunflower': 0, 'tulip': 1}"
            ]
          },
          "metadata": {},
          "execution_count": 44
        }
      ],
      "source": [
        "x_train.class_indices"
      ]
    },
    {
      "cell_type": "markdown",
      "source": [],
      "metadata": {
        "id": "Z7b8CGRwLnvQ"
      },
      "id": "Z7b8CGRwLnvQ"
    },
    {
      "cell_type": "markdown",
      "id": "3674fd50",
      "metadata": {
        "id": "3674fd50"
      },
      "source": [
        "# Create Model"
      ]
    },
    {
      "cell_type": "code",
      "execution_count": 46,
      "id": "40d36922",
      "metadata": {
        "id": "40d36922"
      },
      "outputs": [],
      "source": [
        "#initialize the model\n",
        "model = Sequential()"
      ]
    },
    {
      "cell_type": "markdown",
      "id": "42399f9d",
      "metadata": {
        "id": "42399f9d"
      },
      "source": [
        "# Add Layers (Convolution,MaxPooling,Flatten,Dense-(Hidden Layers),Output)\n"
      ]
    },
    {
      "cell_type": "code",
      "execution_count": 47,
      "id": "7cb21faa",
      "metadata": {
        "id": "7cb21faa"
      },
      "outputs": [],
      "source": [
        "#add convlution layer\n",
        "model.add(Convolution2D(32,(3,3),input_shape=(128,128,3),activation='relu'))\n",
        "# 32 => no of feature detectors\n",
        "#(3,3)=> kernel size(feature detector size => 3*3 matrix)"
      ]
    },
    {
      "cell_type": "code",
      "execution_count": 48,
      "id": "f707bdb9",
      "metadata": {
        "id": "f707bdb9"
      },
      "outputs": [],
      "source": [
        "#add maxpooling layer\n",
        "model.add(MaxPooling2D(pool_size=(2,2)))"
      ]
    },
    {
      "cell_type": "code",
      "execution_count": 49,
      "id": "9211daa5",
      "metadata": {
        "id": "9211daa5"
      },
      "outputs": [],
      "source": [
        "# you can add more convolutiona and pooling layers\n",
        "model.add(Convolution2D(32,(3,3),input_shape=(128,128,3),activation='relu'))\n",
        "model.add(MaxPooling2D(pool_size=(2,2)))"
      ]
    },
    {
      "cell_type": "code",
      "execution_count": 50,
      "id": "3ed0ec60",
      "metadata": {
        "id": "3ed0ec60"
      },
      "outputs": [],
      "source": [
        "#flatten layer => input layer to your ANN\n",
        "model.add(Flatten())"
      ]
    },
    {
      "cell_type": "code",
      "execution_count": 51,
      "id": "80e25dc3",
      "metadata": {
        "id": "80e25dc3"
      },
      "outputs": [],
      "source": [
        "#hidden layers\n",
        "model.add(Dense(units=500,kernel_initializer=\"random_uniform\",activation=\"relu\"))\n",
        "model.add(Dense(units=200,kernel_initializer=\"random_uniform\",activation=\"relu\"))\n",
        "model.add(Dense(units=300,kernel_initializer=\"random_uniform\",activation=\"relu\"))\n",
        "model.add(Dense(units=400,kernel_initializer=\"random_uniform\",activation=\"relu\"))"
      ]
    },
    {
      "cell_type": "code",
      "execution_count": 71,
      "id": "96eaeff1",
      "metadata": {
        "id": "96eaeff1"
      },
      "outputs": [],
      "source": [
        "#output layer\n",
        "model.add(Dense(units=2,kernel_initializer=\"random_uniform\",activation=\"softmax\"))"
      ]
    },
    {
      "cell_type": "markdown",
      "id": "57aab9e9",
      "metadata": {
        "id": "57aab9e9"
      },
      "source": [
        "# Compile The Model"
      ]
    },
    {
      "cell_type": "code",
      "execution_count": 72,
      "id": "251cbc5d",
      "metadata": {
        "id": "251cbc5d"
      },
      "outputs": [],
      "source": [
        "#compile the model\n",
        "model.compile(loss=\"categorical_crossentropy\",optimizer=\"adam\",metrics=[\"accuracy\"])"
      ]
    },
    {
      "cell_type": "markdown",
      "id": "4d5cfa6a",
      "metadata": {
        "id": "4d5cfa6a"
      },
      "source": [
        "# Fit The Model"
      ]
    },
    {
      "cell_type": "code",
      "execution_count": 73,
      "id": "7fac8b83",
      "metadata": {
        "colab": {
          "base_uri": "https://localhost:8080/"
        },
        "id": "7fac8b83",
        "outputId": "7b117ce1-1bd5-46f9-fda9-010660e8773e"
      },
      "outputs": [
        {
          "output_type": "stream",
          "name": "stdout",
          "text": [
            "Epoch 1/25\n",
            " 10/107 [=>............................] - ETA: 2:09 - loss: 0.6963 - accuracy: 0.4194"
          ]
        },
        {
          "output_type": "stream",
          "name": "stderr",
          "text": [
            "WARNING:tensorflow:Your input ran out of data; interrupting training. Make sure that your dataset or generator can generate at least `steps_per_epoch * epochs` batches (in this case, 2675 batches). You may need to use the repeat() function when building your dataset.\n",
            "WARNING:tensorflow:Your input ran out of data; interrupting training. Make sure that your dataset or generator can generate at least `steps_per_epoch * epochs` batches (in this case, 27 batches). You may need to use the repeat() function when building your dataset.\n"
          ]
        },
        {
          "output_type": "stream",
          "name": "stdout",
          "text": [
            "\b\b\b\b\b\b\b\b\b\b\b\b\b\b\b\b\b\b\b\b\b\b\b\b\b\b\b\b\b\b\b\b\b\b\b\b\b\b\b\b\b\b\b\b\b\b\b\b\b\b\b\b\b\b\b\b\b\b\b\b\b\b\b\b\b\b\b\b\b\b\b\b\b\b\b\b\b\b\b\b\b\b\b\b\b\b\r107/107 [==============================] - 62s 572ms/step - loss: 0.6963 - accuracy: 0.4194 - val_loss: 0.6968 - val_accuracy: 0.3077\n"
          ]
        },
        {
          "output_type": "execute_result",
          "data": {
            "text/plain": [
              "<keras.callbacks.History at 0x7fbf7b46b8d0>"
            ]
          },
          "metadata": {},
          "execution_count": 73
        }
      ],
      "source": [
        "#train the model\n",
        "model.fit(x_train,steps_per_epoch=107,epochs=25,validation_data=x_test,validation_steps=27)\n",
        "#steps_per_epoch = no of train images/batch size\n",
        "#validation_steps = no of test images/batch size"
      ]
    },
    {
      "cell_type": "markdown",
      "id": "301aa574",
      "metadata": {
        "id": "301aa574"
      },
      "source": [
        "# Save The Model"
      ]
    },
    {
      "cell_type": "code",
      "execution_count": 74,
      "id": "a87f4fdd",
      "metadata": {
        "id": "a87f4fdd"
      },
      "outputs": [],
      "source": [
        "model.save(\"/flowers.h5\")"
      ]
    },
    {
      "cell_type": "markdown",
      "id": "5570dee0",
      "metadata": {
        "id": "5570dee0"
      },
      "source": [
        "# Test The Model"
      ]
    },
    {
      "cell_type": "code",
      "execution_count": 75,
      "id": "199a250c",
      "metadata": {
        "id": "199a250c"
      },
      "outputs": [],
      "source": [
        "from tensorflow.keras.models import load_model\n",
        "from tensorflow.keras.preprocessing import image\n",
        "import numpy as np"
      ]
    },
    {
      "cell_type": "code",
      "execution_count": 76,
      "id": "83e47a3c",
      "metadata": {
        "id": "83e47a3c"
      },
      "outputs": [],
      "source": [
        "model = load_model(\"/flowers.h5\")"
      ]
    },
    {
      "cell_type": "code",
      "execution_count": 61,
      "id": "3591460c",
      "metadata": {
        "id": "3591460c"
      },
      "outputs": [],
      "source": [
        "img = image.load_img(\"/sunflower.jpg\",target_size=(128,128))"
      ]
    },
    {
      "cell_type": "code",
      "execution_count": null,
      "id": "eb4c21ad",
      "metadata": {
        "id": "eb4c21ad",
        "outputId": "d6f024bd-27d0-4d8e-af16-f71a3044d63b"
      },
      "outputs": [
        {
          "data": {
            "image/png": "[encoded data removed]",
            "text/plain": [
              "<PIL.Image.Image image mode=RGB size=128x128 at 0x1FC8B0FB370>"
            ]
          },
          "execution_count": 118,
          "metadata": {},
          "output_type": "execute_result"
        }
      ],
      "source": [
        "img"
      ]
    },
    {
      "cell_type": "code",
      "execution_count": 19,
      "id": "e4163cf5",
      "metadata": {
        "id": "e4163cf5"
      },
      "outputs": [],
      "source": [
        "x = image.img_to_array(img)"
      ]
    },
    {
      "cell_type": "code",
      "execution_count": null,
      "id": "2712ea8b",
      "metadata": {
        "id": "2712ea8b"
      },
      "outputs": [],
      "source": [
        "x"
      ]
    },
    {
      "cell_type": "code",
      "execution_count": 21,
      "id": "856ae5ba",
      "metadata": {
        "colab": {
          "base_uri": "https://localhost:8080/"
        },
        "id": "856ae5ba",
        "outputId": "9abdd06d-8a89-48fc-8562-9ccb676746b5"
      },
      "outputs": [
        {
          "output_type": "execute_result",
          "data": {
            "text/plain": [
              "(128, 128, 3)"
            ]
          },
          "metadata": {},
          "execution_count": 21
        }
      ],
      "source": [
        "x.shape"
      ]
    },
    {
      "cell_type": "code",
      "execution_count": 22,
      "id": "a2b88328",
      "metadata": {
        "id": "a2b88328"
      },
      "outputs": [],
      "source": [
        "#(1,64,64,3) to expand the dims"
      ]
    },
    {
      "cell_type": "code",
      "execution_count": 23,
      "id": "ab35ed51",
      "metadata": {
        "colab": {
          "base_uri": "https://localhost:8080/"
        },
        "id": "ab35ed51",
        "outputId": "eba4d14f-4b6b-4868-97cb-bb5b1d7a61fd"
      },
      "outputs": [
        {
          "output_type": "execute_result",
          "data": {
            "text/plain": [
              "(1, 128, 128, 3)"
            ]
          },
          "metadata": {},
          "execution_count": 23
        }
      ],
      "source": [
        "x = np.expand_dims(x,axis=0)\n",
        "x.shape"
      ]
    },
    {
      "cell_type": "code",
      "execution_count": 77,
      "id": "9f62e979",
      "metadata": {
        "id": "9f62e979"
      },
      "outputs": [],
      "source": [
        "pred_prob = model.predict(x)"
      ]
    },
    {
      "cell_type": "code",
      "execution_count": 78,
      "id": "a9d770e1",
      "metadata": {
        "colab": {
          "base_uri": "https://localhost:8080/"
        },
        "id": "a9d770e1",
        "outputId": "76deffc3-b84c-43ef-eab5-89923b5c3032"
      },
      "outputs": [
        {
          "output_type": "execute_result",
          "data": {
            "text/plain": [
              "array([[0.50450784, 0.4954922 ]], dtype=float32)"
            ]
          },
          "metadata": {},
          "execution_count": 78
        }
      ],
      "source": [
        "pred_prob"
      ]
    },
    {
      "cell_type": "code",
      "execution_count": 82,
      "id": "6e43fac9",
      "metadata": {
        "id": "6e43fac9"
      },
      "outputs": [],
      "source": [
        "class_name=['sunflower','tulip']\n",
        "pred_id = pred_prob.argmax(axis=1)[0]"
      ]
    },
    {
      "cell_type": "code",
      "execution_count": 80,
      "id": "40364bb8",
      "metadata": {
        "colab": {
          "base_uri": "https://localhost:8080/"
        },
        "id": "40364bb8",
        "outputId": "c8db5447-71f3-4975-d328-1d2d465a2cc0"
      },
      "outputs": [
        {
          "output_type": "execute_result",
          "data": {
            "text/plain": [
              "0"
            ]
          },
          "metadata": {},
          "execution_count": 80
        }
      ],
      "source": [
        "pred_id"
      ]
    },
    {
      "cell_type": "code",
      "execution_count": 83,
      "id": "dceedb5d",
      "metadata": {
        "colab": {
          "base_uri": "https://localhost:8080/"
        },
        "id": "dceedb5d",
        "outputId": "7e93dacc-8db3-4fd3-949f-82d349e95e60"
      },
      "outputs": [
        {
          "output_type": "stream",
          "name": "stdout",
          "text": [
            "predicted Flower is  sunflower\n"
          ]
        }
      ],
      "source": [
        "print(\"predicted Flower is \",str(class_name[pred_id]))"
      ]
    }
  ],
  "metadata": {
    "kernelspec": {
      "display_name": "Python 3 (ipykernel)",
      "language": "python",
      "name": "python3"
    },
    "language_info": {
      "codemirror_mode": {
        "name": "ipython",
        "version": 3
      },
      "file_extension": ".py",
      "mimetype": "text/x-python",
      "name": "python",
      "nbconvert_exporter": "python",
      "pygments_lexer": "ipython3",
      "version": "3.9.12"
    },
    "colab": {
      "provenance": [],
      "collapsed_sections": []
    }
  },
  "nbformat": 4,
  "nbformat_minor": 5
}