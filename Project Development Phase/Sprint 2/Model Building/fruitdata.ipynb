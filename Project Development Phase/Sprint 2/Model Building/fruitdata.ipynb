{
 "cells": [
  {
   "cell_type": "code",
   "execution_count": 19,
   "id": "daf8764e",
   "metadata": {},
   "outputs": [],
   "source": [
    "import os\n",
    "import tensorflow\n",
    "import numpy as np\n",
    "from keras.preprocessing.image import ImageDataGenerator\n",
    "from keras.models import Sequential\n",
    "from keras.layers import Dense,Convolution2D,MaxPooling2D,Flatten\n",
    "from keras.models import load_model\n",
    "from keras.utils import load_img, img_to_array \n",
    "from keras.preprocessing import image"
   ]
  },
  {
   "cell_type": "code",
   "execution_count": 4,
   "id": "3ee1b664",
   "metadata": {},
   "outputs": [],
   "source": [
    "train_datagen=ImageDataGenerator(rescale=1./255,zoom_range=0.2,horizontal_flip=True,vertical_flip=False)"
   ]
  },
  {
   "cell_type": "code",
   "execution_count": 5,
   "id": "7b840c73",
   "metadata": {},
   "outputs": [],
   "source": [
    "test_datagen=ImageDataGenerator(rescale=1./255)\n"
   ]
  },
  {
   "cell_type": "code",
   "execution_count": 6,
   "id": "819469f8",
   "metadata": {},
   "outputs": [
    {
     "name": "stdout",
     "output_type": "stream",
     "text": [
      "Found 5384 images belonging to 6 classes.\n"
     ]
    }
   ],
   "source": [
    "x_train=train_datagen.flow_from_directory(r\"C:\\Users\\thani_k\\Downloads\\Fertilizers_Recommendation_System_For_Disease_Prediction\\Dataset_Plant_Disease\\fruit-dataset\\fruit-dataset\\train\",target_size=(128,128),\n",
    "                                        class_mode='categorical',batch_size=24)"
   ]
  },
  {
   "cell_type": "code",
   "execution_count": 7,
   "id": "4f3123ba",
   "metadata": {},
   "outputs": [
    {
     "name": "stdout",
     "output_type": "stream",
     "text": [
      "Found 1686 images belonging to 6 classes.\n"
     ]
    }
   ],
   "source": [
    "x_test=test_datagen.flow_from_directory(r\"C:\\Users\\thani_k\\Downloads\\Fertilizers_Recommendation_System_For_Disease_Prediction\\Dataset_Plant_Disease\\fruit-dataset\\fruit-dataset\\test\",target_size=(128,128),\n",
    "                                        class_mode='categorical',batch_size=24)"
   ]
  },
  {
   "cell_type": "code",
   "execution_count": 8,
   "id": "a430b25e",
   "metadata": {},
   "outputs": [],
   "source": [
    "model=Sequential()"
   ]
  },
  {
   "cell_type": "code",
   "execution_count": 9,
   "id": "c253777e",
   "metadata": {},
   "outputs": [],
   "source": [
    "model.add(Convolution2D(32,(3,3),input_shape=(128,128,3),activation='relu'))\n"
   ]
  },
  {
   "cell_type": "code",
   "execution_count": 10,
   "id": "81c2b016",
   "metadata": {},
   "outputs": [
    {
     "name": "stdout",
     "output_type": "stream",
     "text": [
      "Model: \"sequential\"\n",
      "_________________________________________________________________\n",
      " Layer (type)                Output Shape              Param #   \n",
      "=================================================================\n",
      " conv2d (Conv2D)             (None, 126, 126, 32)      896       \n",
      "                                                                 \n",
      " max_pooling2d (MaxPooling2D  (None, 63, 63, 32)       0         \n",
      " )                                                               \n",
      "                                                                 \n",
      " flatten (Flatten)           (None, 127008)            0         \n",
      "                                                                 \n",
      "=================================================================\n",
      "Total params: 896\n",
      "Trainable params: 896\n",
      "Non-trainable params: 0\n",
      "_________________________________________________________________\n"
     ]
    }
   ],
   "source": [
    "model.add(MaxPooling2D(pool_size=(2,2)))\n",
    "model.add(Flatten())\n",
    "model.summary()"
   ]
  },
  {
   "cell_type": "code",
   "execution_count": 11,
   "id": "624f0333",
   "metadata": {},
   "outputs": [],
   "source": [
    "32*(3*3*3+1)\n",
    "model.add(Dense(300,activation='relu'))\n",
    "model.add(Dense(150,activation='relu'))"
   ]
  },
  {
   "cell_type": "code",
   "execution_count": 12,
   "id": "110913b9",
   "metadata": {},
   "outputs": [
    {
     "data": {
      "text/plain": [
       "225"
      ]
     },
     "execution_count": 12,
     "metadata": {},
     "output_type": "execute_result"
    }
   ],
   "source": [
    "model.add(Dense(6,activation='softmax'))\n",
    "model.compile(loss='categorical_crossentropy',optimizer='adam',metrics=['accuracy'])\n",
    "len(x_train)"
   ]
  },
  {
   "cell_type": "code",
   "execution_count": 13,
   "id": "5f207c85",
   "metadata": {},
   "outputs": [
    {
     "data": {
      "text/plain": [
       "51.583333333333336"
      ]
     },
     "execution_count": 13,
     "metadata": {},
     "output_type": "execute_result"
    }
   ],
   "source": [
    "1238/24"
   ]
  },
  {
   "cell_type": "code",
   "execution_count": 14,
   "id": "8256f689",
   "metadata": {},
   "outputs": [
    {
     "name": "stdout",
     "output_type": "stream",
     "text": [
      "Epoch 1/10\n",
      "225/225 [==============================] - 80s 350ms/step - loss: 0.6349 - accuracy: 0.8189 - val_loss: 0.2122 - val_accuracy: 0.9259\n",
      "Epoch 2/10\n",
      "225/225 [==============================] - 67s 297ms/step - loss: 0.2355 - accuracy: 0.9207 - val_loss: 0.1760 - val_accuracy: 0.9389\n",
      "Epoch 3/10\n",
      "225/225 [==============================] - 66s 294ms/step - loss: 0.1924 - accuracy: 0.9352 - val_loss: 0.1518 - val_accuracy: 0.9531\n",
      "Epoch 4/10\n",
      "225/225 [==============================] - 65s 289ms/step - loss: 0.1549 - accuracy: 0.9482 - val_loss: 0.1683 - val_accuracy: 0.9448\n",
      "Epoch 5/10\n",
      "225/225 [==============================] - 67s 298ms/step - loss: 0.1415 - accuracy: 0.9493 - val_loss: 0.1472 - val_accuracy: 0.9543\n",
      "Epoch 6/10\n",
      "225/225 [==============================] - 70s 311ms/step - loss: 0.1190 - accuracy: 0.9580 - val_loss: 0.1223 - val_accuracy: 0.9632\n",
      "Epoch 7/10\n",
      "225/225 [==============================] - 71s 314ms/step - loss: 0.1052 - accuracy: 0.9629 - val_loss: 0.1258 - val_accuracy: 0.9644\n",
      "Epoch 8/10\n",
      "225/225 [==============================] - 75s 333ms/step - loss: 0.1233 - accuracy: 0.9614 - val_loss: 0.1368 - val_accuracy: 0.9632\n",
      "Epoch 9/10\n",
      "225/225 [==============================] - 82s 364ms/step - loss: 0.0820 - accuracy: 0.9708 - val_loss: 0.0998 - val_accuracy: 0.9703\n",
      "Epoch 10/10\n",
      "225/225 [==============================] - 73s 326ms/step - loss: 0.0988 - accuracy: 0.9658 - val_loss: 0.1371 - val_accuracy: 0.9656\n"
     ]
    },
    {
     "data": {
      "text/plain": [
       "<keras.callbacks.History at 0x22039ef13f0>"
      ]
     },
     "execution_count": 14,
     "metadata": {},
     "output_type": "execute_result"
    }
   ],
   "source": [
    "model.fit(x_train,steps_per_epoch=len(x_train),validation_data=x_test,validation_steps=len(x_test),epochs=10)\n"
   ]
  },
  {
   "cell_type": "code",
   "execution_count": 15,
   "id": "1c4448dd",
   "metadata": {},
   "outputs": [],
   "source": [
    "model.save('fruitdata.h5')\n"
   ]
  },
  {
   "cell_type": "code",
   "execution_count": 16,
   "id": "9b8a2bcc",
   "metadata": {},
   "outputs": [],
   "source": [
    "model=load_model('fruitdata.h5')"
   ]
  },
  {
   "cell_type": "code",
   "execution_count": 57,
   "id": "da30c453",
   "metadata": {},
   "outputs": [],
   "source": [
    "img=tensorflow.keras.utils.load_img(r\"C:\\Users\\thani_k\\Downloads\\Fertilizers_Recommendation_System_For_Disease_Prediction\\Dataset_Plant_Disease\\fruit-dataset\\fruit-dataset\\test\\Corn_(maize)___Northern_Leaf_Blight\\00a55069-3fa3-405b-8d87-4d3408a6ed98___RS_NLB 3645.JPG\",target_size=(128,128))\n"
   ]
  },
  {
   "cell_type": "code",
   "execution_count": 58,
   "id": "f49760ac",
   "metadata": {},
   "outputs": [
    {
     "data": {
      "image/png": "[encoded data removed]",
      "text/plain": [
       "<PIL.Image.Image image mode=RGB size=128x128>"
      ]
     },
     "execution_count": 58,
     "metadata": {},
     "output_type": "execute_result"
    }
   ],
   "source": [
    "img"
   ]
  },
  {
   "cell_type": "code",
   "execution_count": 59,
   "id": "3f5ce628",
   "metadata": {},
   "outputs": [],
   "source": [
    "x=tensorflow.keras.utils.img_to_array(img)"
   ]
  },
  {
   "cell_type": "code",
   "execution_count": 60,
   "id": "1cc64c8f",
   "metadata": {},
   "outputs": [
    {
     "data": {
      "text/plain": [
       "array([[[126., 139.,  95.],\n",
       "        [126., 142., 103.],\n",
       "        [ 95., 115.,  80.],\n",
       "        ...,\n",
       "        [ 77.,  72.,  78.],\n",
       "        [ 78.,  73.,  79.],\n",
       "        [ 78.,  73.,  80.]],\n",
       "\n",
       "       [[145., 158., 114.],\n",
       "        [128., 144., 105.],\n",
       "        [ 94., 116.,  80.],\n",
       "        ...,\n",
       "        [ 79.,  74.,  80.],\n",
       "        [ 79.,  74.,  80.],\n",
       "        [ 79.,  74.,  81.]],\n",
       "\n",
       "       [[160., 176., 131.],\n",
       "        [132., 150., 110.],\n",
       "        [ 98., 120.,  84.],\n",
       "        ...,\n",
       "        [ 82.,  77.,  83.],\n",
       "        [ 81.,  76.,  82.],\n",
       "        [ 80.,  75.,  82.]],\n",
       "\n",
       "       ...,\n",
       "\n",
       "       [[130., 143.,  99.],\n",
       "        [130., 143.,  99.],\n",
       "        [136., 149., 106.],\n",
       "        ...,\n",
       "        [149., 144., 150.],\n",
       "        [147., 142., 148.],\n",
       "        [146., 141., 147.]],\n",
       "\n",
       "       [[112., 125.,  82.],\n",
       "        [108., 121.,  78.],\n",
       "        [123., 135.,  95.],\n",
       "        ...,\n",
       "        [147., 142., 148.],\n",
       "        [146., 141., 147.],\n",
       "        [145., 140., 146.]],\n",
       "\n",
       "       [[130., 143., 100.],\n",
       "        [125., 137.,  97.],\n",
       "        [130., 142., 102.],\n",
       "        ...,\n",
       "        [145., 140., 146.],\n",
       "        [145., 140., 146.],\n",
       "        [145., 140., 146.]]], dtype=float32)"
      ]
     },
     "execution_count": 60,
     "metadata": {},
     "output_type": "execute_result"
    }
   ],
   "source": [
    "x"
   ]
  },
  {
   "cell_type": "code",
   "execution_count": 61,
   "id": "45bb5d53",
   "metadata": {},
   "outputs": [],
   "source": [
    "x=np.expand_dims(x,axis=0)\n"
   ]
  },
  {
   "cell_type": "code",
   "execution_count": 62,
   "id": "b1975a82",
   "metadata": {},
   "outputs": [
    {
     "data": {
      "text/plain": [
       "array([[[[126., 139.,  95.],\n",
       "         [126., 142., 103.],\n",
       "         [ 95., 115.,  80.],\n",
       "         ...,\n",
       "         [ 77.,  72.,  78.],\n",
       "         [ 78.,  73.,  79.],\n",
       "         [ 78.,  73.,  80.]],\n",
       "\n",
       "        [[145., 158., 114.],\n",
       "         [128., 144., 105.],\n",
       "         [ 94., 116.,  80.],\n",
       "         ...,\n",
       "         [ 79.,  74.,  80.],\n",
       "         [ 79.,  74.,  80.],\n",
       "         [ 79.,  74.,  81.]],\n",
       "\n",
       "        [[160., 176., 131.],\n",
       "         [132., 150., 110.],\n",
       "         [ 98., 120.,  84.],\n",
       "         ...,\n",
       "         [ 82.,  77.,  83.],\n",
       "         [ 81.,  76.,  82.],\n",
       "         [ 80.,  75.,  82.]],\n",
       "\n",
       "        ...,\n",
       "\n",
       "        [[130., 143.,  99.],\n",
       "         [130., 143.,  99.],\n",
       "         [136., 149., 106.],\n",
       "         ...,\n",
       "         [149., 144., 150.],\n",
       "         [147., 142., 148.],\n",
       "         [146., 141., 147.]],\n",
       "\n",
       "        [[112., 125.,  82.],\n",
       "         [108., 121.,  78.],\n",
       "         [123., 135.,  95.],\n",
       "         ...,\n",
       "         [147., 142., 148.],\n",
       "         [146., 141., 147.],\n",
       "         [145., 140., 146.]],\n",
       "\n",
       "        [[130., 143., 100.],\n",
       "         [125., 137.,  97.],\n",
       "         [130., 142., 102.],\n",
       "         ...,\n",
       "         [145., 140., 146.],\n",
       "         [145., 140., 146.],\n",
       "         [145., 140., 146.]]]], dtype=float32)"
      ]
     },
     "execution_count": 62,
     "metadata": {},
     "output_type": "execute_result"
    }
   ],
   "source": [
    "x"
   ]
  },
  {
   "cell_type": "code",
   "execution_count": 63,
   "id": "a9929f1d",
   "metadata": {},
   "outputs": [
    {
     "name": "stdout",
     "output_type": "stream",
     "text": [
      "1/1 [==============================] - 0s 112ms/step\n"
     ]
    }
   ],
   "source": [
    "y=np.argmax(model.predict(x),axis=1)"
   ]
  },
  {
   "cell_type": "code",
   "execution_count": 64,
   "id": "526fce3d",
   "metadata": {},
   "outputs": [
    {
     "data": {
      "text/plain": [
       "array([3], dtype=int64)"
      ]
     },
     "execution_count": 64,
     "metadata": {},
     "output_type": "execute_result"
    }
   ],
   "source": [
    "y"
   ]
  },
  {
   "cell_type": "code",
   "execution_count": 65,
   "id": "0d519205",
   "metadata": {},
   "outputs": [
    {
     "data": {
      "text/plain": [
       "{'Apple___Black_rot': 0,\n",
       " 'Apple___healthy': 1,\n",
       " 'Corn_(maize)___Northern_Leaf_Blight': 2,\n",
       " 'Corn_(maize)___healthy': 3,\n",
       " 'Peach___Bacterial_spot': 4,\n",
       " 'Peach___healthy': 5}"
      ]
     },
     "execution_count": 65,
     "metadata": {},
     "output_type": "execute_result"
    }
   ],
   "source": [
    "x_train.class_indices"
   ]
  },
  {
   "cell_type": "code",
   "execution_count": 66,
   "id": "a6e38e7e",
   "metadata": {},
   "outputs": [],
   "source": [
    "index=['Apple___Black_rot','Apple___healthy','Corn_(maize)___Northern_Leaf_Blight','Corn_(maize)___healthy','Peach___Bacterial_spot','Peach___healthy']"
   ]
  },
  {
   "cell_type": "code",
   "execution_count": 67,
   "id": "47b90c62",
   "metadata": {},
   "outputs": [
    {
     "data": {
      "text/plain": [
       "'Corn_(maize)___healthy'"
      ]
     },
     "execution_count": 67,
     "metadata": {},
     "output_type": "execute_result"
    }
   ],
   "source": [
    "index[y[0]]"
   ]
  }
 ],
 "metadata": {
  "kernelspec": {
   "display_name": "Python 3.10.4 64-bit",
   "language": "python",
   "name": "python3"
  },
  "language_info": {
   "codemirror_mode": {
    "name": "ipython",
    "version": 3
   },
   "file_extension": ".py",
   "mimetype": "text/x-python",
   "name": "python",
   "nbconvert_exporter": "python",
   "pygments_lexer": "ipython3",
   "version": "3.10.4 (tags/v3.10.4:9d38120, Mar 23 2022, 23:13:41) [MSC v.1929 64 bit (AMD64)]"
  },
  "vscode": {
   "interpreter": {
    "hash": "b6e8fde577a4a11b99bb7eaea801bf266c484ed77020b3da605bb596786777b5"
   }
  }
 },
 "nbformat": 4,
 "nbformat_minor": 5
}
